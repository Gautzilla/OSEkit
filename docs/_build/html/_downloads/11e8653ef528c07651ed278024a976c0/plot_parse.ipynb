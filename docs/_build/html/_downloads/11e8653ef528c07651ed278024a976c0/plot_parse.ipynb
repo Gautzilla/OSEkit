{
  "cells": [
    {
      "cell_type": "markdown",
      "metadata": {},
      "source": [
        "\n# Alternating text and code\n\nSphinx-Gallery is capable of transforming Python files into reST files\nwith a notebook structure. For this to be used you need to respect some syntax\nrules. This example demonstrates how to alternate text and code blocks and some\nedge cases. It was designed to be compared with the\n:download:`source Python script <plot_parse.py>`.\n"
      ]
    },
    {
      "cell_type": "markdown",
      "metadata": {},
      "source": [
        "This is the first text block and directly follows the header docstring above.\n\n"
      ]
    },
    {
      "cell_type": "code",
      "execution_count": null,
      "metadata": {
        "collapsed": false
      },
      "outputs": [],
      "source": [
        "import numpy as np  # noqa: F401"
      ]
    },
    {
      "cell_type": "code",
      "execution_count": null,
      "metadata": {
        "collapsed": false
      },
      "outputs": [],
      "source": [
        "# You can separate code blocks using either a single line of ``#``'s\n# (>=20 columns), ``#%%``, or ``# %%``. For consistency, it is recommend that\n# you use only one of the above three 'block splitter' options in your project.\nA = 1\n\nimport matplotlib.pyplot as plt  # noqa: F401"
      ]
    },
    {
      "cell_type": "markdown",
      "metadata": {},
      "source": [
        "Block splitters allow you alternate between code and text blocks **and**\nseparate sequential blocks of code (above) and text (below).\n\n"
      ]
    },
    {
      "cell_type": "markdown",
      "metadata": {},
      "source": [
        "A line of ``#``'s also works for separating blocks. The above line of ``#``'s\nseparates the text block above from this text block. Notice however, that\nseparated text blocks only shows as a new lines between text, in the rendered\noutput.\n\n"
      ]
    },
    {
      "cell_type": "code",
      "execution_count": null,
      "metadata": {
        "collapsed": false
      },
      "outputs": [],
      "source": [
        "def dummy():\n    \"\"\"This should not be part of a 'text' block'\"\"\"  # noqa: D404\n\n    # %%\n    # This comment inside a code block will remain in the code block\n    pass\n\n\n# this line should not be part of a 'text' block"
      ]
    },
    {
      "cell_type": "markdown",
      "metadata": {},
      "source": [
        "####################################################################\n\nThe above syntax makes a line cut in Sphinx. Note the space between the first\n``#`` and the line of ``#``'s.\n\n"
      ]
    },
    {
      "cell_type": "markdown",
      "metadata": {},
      "source": [
        "<div class=\"alert alert-danger\"><h4>Warning</h4><p>The next kind of comments are not supported (notice the line of ``#``'s\n    and the ``# %%`` start at the margin instead of being indented like\n    above) and become too hard to escape so just don't use code like this::\n\n        def dummy2():\n            \"\"\"Function docstring\"\"\"\n        ####################################\n        # This comment\n        # %%\n        # and this comment inside python indentation\n        # breaks the block structure and is not\n        # supported\n            dummy2</p></div>\n\n\n"
      ]
    },
    {
      "cell_type": "code",
      "execution_count": null,
      "metadata": {
        "collapsed": false
      },
      "outputs": [],
      "source": [
        "\"\"\"Free strings are not supported. They will be rendered as a code block\"\"\""
      ]
    },
    {
      "cell_type": "markdown",
      "metadata": {},
      "source": [
        "New lines can be included in your text block and the parser\nis capable of retaining this important whitespace to work with Sphinx.\nEverything after a block splitter and starting with ``#`` then one space,\nis interpreted by Sphinx-Gallery to be a reST text block. Keep your text\nblock together using ``#`` and a space at the beginning of each line.\n\n## reST header within text block\n\n"
      ]
    },
    {
      "cell_type": "markdown",
      "metadata": {},
      "source": [
        "### Raw data preparation\nBefore you can build your dataset: \nStep 1 \n^^^^^^^^^\nchoose a dataset name (should not contain any special character, including '-'\u207e ; \nStep 2\n^^^^^^^^^\ncreate the folder ``/home/datawork-osmose/dataset/{dataset_name}`` (or ``home/datawork-osmose/dataset/{campaign_name}/{dataset_name}`` in case of a recording campaign); \n* place in this folder your audio data, they can be individual files or contain within multiple sub-folders ; \n* if you have any csv files (either a ``timestamp.csv`` or ``*gps*.csv`` file) should also be placed in this folder ;\n\n"
      ]
    },
    {
      "cell_type": "markdown",
      "metadata": {},
      "source": [
        "**Important remarks:** \n- about timestamps : all timestamps from your original data (from your audio filenames or from your csv files) MUST follow the same timestamp template which should be given in ``date_template`` ; \n- about ``*gps*.csv`` file : this file provides the GPS track (ie latitude and longitude coordinates) of a moving hydrophone. This file must contain the term *gps* in its filename ; \n- about auxiliary csv files : they must contain headers with the following standardized names : timestamp , depth , lat , lon\n\n"
      ]
    },
    {
      "cell_type": "code",
      "execution_count": null,
      "metadata": {
        "collapsed": false
      },
      "outputs": [],
      "source": [
        "print(\"one\")"
      ]
    },
    {
      "cell_type": "code",
      "execution_count": null,
      "metadata": {
        "collapsed": false
      },
      "outputs": [],
      "source": [
        "# another way to separate code blocks shown above\nB = 1"
      ]
    },
    {
      "cell_type": "markdown",
      "metadata": {},
      "source": [
        "Code blocks containing Jupyter magic are executable\n```bash\n%%bash\n# This could be run!\n```\n"
      ]
    },
    {
      "cell_type": "markdown",
      "metadata": {},
      "source": [
        "Last text block.\n\nThat's all folks !\n\n.. literalinclude:: plot_parse.py\n\n\n\n"
      ]
    }
  ],
  "metadata": {
    "kernelspec": {
      "display_name": "Python 3",
      "language": "python",
      "name": "python3"
    },
    "language_info": {
      "codemirror_mode": {
        "name": "ipython",
        "version": 3
      },
      "file_extension": ".py",
      "mimetype": "text/x-python",
      "name": "python",
      "nbconvert_exporter": "python",
      "pygments_lexer": "ipython3",
      "version": "3.10.12"
    }
  },
  "nbformat": 4,
  "nbformat_minor": 0
}