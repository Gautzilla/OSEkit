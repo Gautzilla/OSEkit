{
  "cells": [
    {
      "cell_type": "markdown",
      "metadata": {},
      "source": [
        "\n# Generate spectrograms\n\nThis code will show you how to compute spectrograms\n"
      ]
    },
    {
      "cell_type": "code",
      "execution_count": null,
      "metadata": {
        "collapsed": false
      },
      "outputs": [],
      "source": [
        "import os\nimport matplotlib.pyplot as plt"
      ]
    },
    {
      "cell_type": "markdown",
      "metadata": {},
      "source": [
        "As this is an example, we have already worked out where\nwe need to crop for the active region we want to showcase.\n\n"
      ]
    },
    {
      "cell_type": "code",
      "execution_count": null,
      "metadata": {
        "collapsed": false
      },
      "outputs": [],
      "source": [
        "start_time = Time('2012-09-24T14:56:03', scale='utc', format='isot')\nbottom_left = SkyCoord(-500*u.arcsec, -275*u.arcsec, obstime=start_time, observer=\"earth\", frame=\"helioprojective\")\ntop_right = SkyCoord(150*u.arcsec, 375*u.arcsec, obstime=start_time, observer=\"earth\", frame=\"helioprojective\")"
      ]
    },
    {
      "cell_type": "markdown",
      "metadata": {},
      "source": [
        "Now construct the cutout from the coordinates above\nabove using the `~sunpy.net.jsoc.attrs.Cutout` attribute.\n\n"
      ]
    },
    {
      "cell_type": "code",
      "execution_count": null,
      "metadata": {
        "collapsed": false
      },
      "outputs": [],
      "source": [
        "cutout = a.jsoc.Cutout(bottom_left, top_right=top_right, tracking=True)"
      ]
    }
  ],
  "metadata": {
    "kernelspec": {
      "display_name": "Python 3",
      "language": "python",
      "name": "python3"
    },
    "language_info": {
      "codemirror_mode": {
        "name": "ipython",
        "version": 3
      },
      "file_extension": ".py",
      "mimetype": "text/x-python",
      "name": "python",
      "nbconvert_exporter": "python",
      "pygments_lexer": "ipython3",
      "version": "3.10.12"
    }
  },
  "nbformat": 4,
  "nbformat_minor": 0
}