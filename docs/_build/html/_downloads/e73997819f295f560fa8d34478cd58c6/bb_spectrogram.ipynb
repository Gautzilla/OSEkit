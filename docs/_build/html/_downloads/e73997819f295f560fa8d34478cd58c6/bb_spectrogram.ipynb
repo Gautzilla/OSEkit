{
  "cells": [
    {
      "cell_type": "markdown",
      "metadata": {},
      "source": [
        "\n# Generate spectrograms\n\nThis code will show you how to compute spectrograms\n"
      ]
    },
    {
      "cell_type": "code",
      "execution_count": null,
      "metadata": {
        "collapsed": false
      },
      "outputs": [],
      "source": [
        "from pathlib import Path\nfrom OSmOSE import Spectrogram\nimport glob"
      ]
    },
    {
      "cell_type": "markdown",
      "metadata": {},
      "source": [
        "Define dataset path and name\n\n"
      ]
    },
    {
      "cell_type": "code",
      "execution_count": null,
      "metadata": {
        "collapsed": false
      },
      "outputs": [],
      "source": [
        "path_osmose_dataset = \"/home6/cazaudo/Bureau/osmose_sample_datasets/\"\ndataset_name = \"MPSU\"\ncampaign_name = \"\""
      ]
    },
    {
      "cell_type": "markdown",
      "metadata": {},
      "source": [
        "Define standard parameters for spectrogram computation\n\n"
      ]
    },
    {
      "cell_type": "code",
      "execution_count": null,
      "metadata": {
        "collapsed": false
      },
      "outputs": [],
      "source": [
        "spectrogram = Spectrogram(dataset_path = Path(path_osmose_dataset, campaign_name, dataset_name))\n\nspectrogram.dataset_sr = 18000\nspectrogram.spectro_duration = 15\n\nspectrogram.nfft = 1024\nspectrogram.window_size = 1024\nspectrogram.overlap = 0"
      ]
    },
    {
      "cell_type": "markdown",
      "metadata": {},
      "source": [
        "Check size of spectrogram\n\n"
      ]
    },
    {
      "cell_type": "code",
      "execution_count": null,
      "metadata": {
        "collapsed": false
      },
      "outputs": [],
      "source": [
        "spectrogram.check_spectro_size()"
      ]
    },
    {
      "cell_type": "markdown",
      "metadata": {},
      "source": [
        "Initialize spectrogram computation ; this method will prepare audio data \n\n"
      ]
    },
    {
      "cell_type": "code",
      "execution_count": null,
      "metadata": {
        "collapsed": false
      },
      "outputs": [],
      "source": [
        "reshape_method = \"classic\" # Automatically reshape the audio files to fit the spectro_duration value. Available methods : \"classic\" or \"legacy\"\nmerge_on_reshape = False # Set to False if fyou don't want to merge audio files while reshaping them (if they do not follow each other chronologically for example)\nforce_init = False # Force every initialization parameter, including force_reshape and other computing jobs. It is best to avoid using it.\nspectrogram.initialize(reshape_method=reshape_method, force_init=force_init, merge_on_reshape=merge_on_reshape)#, offset_overlap=offset_overlap)\n\nlist_wav_to_process = glob.glob(path_osmose_dataset+f'{dataset_name}/data/audio/{spectrogram.spectro_duration}_{spectrogram.dataset_sr}/*wav')\n\nspectrogram.process_all_files(list_wav_to_process=list_wav_to_process)"
      ]
    }
  ],
  "metadata": {
    "kernelspec": {
      "display_name": "Python 3",
      "language": "python",
      "name": "python3"
    },
    "language_info": {
      "codemirror_mode": {
        "name": "ipython",
        "version": 3
      },
      "file_extension": ".py",
      "mimetype": "text/x-python",
      "name": "python",
      "nbconvert_exporter": "python",
      "pygments_lexer": "ipython3",
      "version": "3.10.12"
    }
  },
  "nbformat": 4,
  "nbformat_minor": 0
}