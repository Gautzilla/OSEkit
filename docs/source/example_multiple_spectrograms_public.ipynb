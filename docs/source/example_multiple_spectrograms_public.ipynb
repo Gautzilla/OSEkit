{
 "cells": [
  {
   "cell_type": "code",
   "id": "dc7ebca70b3b5da",
   "metadata": {
    "tags": [
     "remove-cell"
    ]
   },
   "source": [
    "# Executing this cell will disable all TQDM outputs in stdout.\n",
    "import os\n",
    "\n",
    "os.environ[\"DISABLE_TQDM\"] = \"True\""
   ],
   "outputs": [],
   "execution_count": null
  },
  {
   "cell_type": "markdown",
   "id": "5d67c1697ae837a4",
   "metadata": {},
   "source": [
    "# Computing multiple spectrograms with the Public API [^download]\n",
    "\n",
    "[^download]: This notebook can be downloaded as **{nb-download}`example_multiple_spectrograms_public.ipynb`**."
   ]
  },
  {
   "cell_type": "markdown",
   "id": "66731c408df9271c",
   "metadata": {},
   "source": "As always in the **Public API**, the first step is to **build the dataset**:"
  },
  {
   "cell_type": "code",
   "id": "bb002105fc9632e8",
   "metadata": {
    "tags": []
   },
   "source": [
    "from pathlib import Path\n",
    "\n",
    "audio_folder = Path(r\"_static/sample_audio\")\n",
    "\n",
    "from osekit.public_api.dataset import Dataset\n",
    "\n",
    "dataset = Dataset(\n",
    "    folder=audio_folder,\n",
    "    strptime_format=\"%y%m%d_%H%M%S\",\n",
    ")\n",
    "\n",
    "dataset.build()"
   ],
   "outputs": [],
   "execution_count": null
  },
  {
   "cell_type": "markdown",
   "id": "d11d0e55baa8e44",
   "metadata": {},
   "source": "The **Public API** `Dataset` is now analyzed and organized:"
  },
  {
   "cell_type": "code",
   "id": "a29c761d4bbd5303",
   "metadata": {},
   "source": [
    "print(f\"{' DATASET ':#^60}\")\n",
    "print(f\"{'Begin:':<30}{str(dataset.origin_dataset.begin):>30}\")\n",
    "print(f\"{'End:':<30}{str(dataset.origin_dataset.end):>30}\")\n",
    "print(f\"{'Sample rate:':<30}{str(dataset.origin_dataset.sample_rate):>30}\\n\")\n",
    "\n",
    "print(f\"{' ORIGINAL FILES ':#^60}\")\n",
    "import pandas as pd\n",
    "\n",
    "pd.DataFrame(\n",
    "    [\n",
    "        {\n",
    "            \"Name\": f.path.name,\n",
    "            \"Begin\": f.begin,\n",
    "            \"End\": f.end,\n",
    "            \"Sample Rate\": f.sample_rate,\n",
    "        }\n",
    "        for f in dataset.origin_files\n",
    "    ],\n",
    ").set_index(\"Name\")"
   ],
   "outputs": [],
   "execution_count": null
  },
  {
   "cell_type": "markdown",
   "id": "9e669f8e6e50909d",
   "metadata": {},
   "source": "Since we will run a spectral analysis, we need to define the FFT parameters:"
  },
  {
   "cell_type": "code",
   "id": "f6f26555c4e80ab3",
   "metadata": {},
   "source": [
    "from scipy.signal import ShortTimeFFT\n",
    "from scipy.signal.windows import hamming\n",
    "\n",
    "sample_rate = 24_000\n",
    "\n",
    "sft = ShortTimeFFT(win=hamming(1024), hop=128, fs=sample_rate)"
   ],
   "outputs": [],
   "execution_count": null
  },
  {
   "cell_type": "markdown",
   "id": "bdcd50704ad9f826",
   "metadata": {},
   "source": "To **run analyses** in the **Public API**, use the `Analysis` class:"
  },
  {
   "cell_type": "code",
   "id": "b4c2c3857ffcb60f",
   "metadata": {
    "tags": []
   },
   "source": [
    "from osekit.public_api.analysis import Analysis, AnalysisType\n",
    "from pandas import Timestamp, Timedelta\n",
    "\n",
    "analysis = Analysis(\n",
    "    analysis_type=AnalysisType.MATRIX\n",
    "    | AnalysisType.SPECTROGRAM\n",
    "    | AnalysisType.WELCH,  # we want to export these three spectrum outputs\n",
    "    begin=Timestamp(\"2022-09-25 22:35:15\"),\n",
    "    end=Timestamp(\"2022-09-25 22:36:25\"),\n",
    "    data_duration=Timedelta(seconds=5),\n",
    "    sample_rate=sample_rate,\n",
    "    fft=sft,\n",
    "    name=\"all_spectral_output\",\n",
    ")"
   ],
   "outputs": [],
   "execution_count": null
  },
  {
   "cell_type": "markdown",
   "id": "6b67898ad3ea73dd",
   "metadata": {},
   "source": [
    "The **Core API** can still be used on top of the **Public API**.\n",
    "\n",
    "We will filter out the empty data this way:"
   ]
  },
  {
   "cell_type": "code",
   "id": "2f799a26d626e418",
   "metadata": {
    "tags": []
   },
   "source": [
    "# Returns a Core API AudioDataset that matches the analysis\n",
    "audio_dataset = dataset.get_analysis_audiodataset(analysis=analysis)\n",
    "\n",
    "# Filter the returned AudioDataset\n",
    "audio_dataset.data = [ad for ad in audio_dataset.data if not ad.is_empty]"
   ],
   "outputs": [],
   "execution_count": null
  },
  {
   "cell_type": "markdown",
   "id": "89a968c78117ceea",
   "metadata": {},
   "source": "We can also glance at the spectrogram results with the **Core API**:"
  },
  {
   "cell_type": "code",
   "id": "d0f78e20ffe0a9e2",
   "metadata": {},
   "source": [
    "import matplotlib.pyplot as plt\n",
    "\n",
    "analysis_spectro_dataset = dataset.get_analysis_spectrodataset(\n",
    "    analysis=analysis,\n",
    "    audio_dataset=audio_dataset,  # So that the filtered SpectroDataset is returned\n",
    ")\n",
    "\n",
    "analysis_spectro_dataset.data[1].plot()\n",
    "plt.show()"
   ],
   "outputs": [],
   "execution_count": null
  },
  {
   "cell_type": "markdown",
   "id": "b2950dc5d76d2bbe",
   "metadata": {},
   "source": "Running the analysis while specifying the filtered ``audio_dataset`` will skip the empty `AudioData` (and thus the empty `SpectroData`)."
  },
  {
   "cell_type": "code",
   "id": "9b65cfdc720d50e6",
   "metadata": {
    "tags": []
   },
   "source": [
    "dataset.run_analysis(analysis=analysis, audio_dataset=audio_dataset)"
   ],
   "outputs": [],
   "execution_count": null
  },
  {
   "cell_type": "markdown",
   "id": "8271f118422f38dc",
   "metadata": {},
   "source": "All the new files from the analysis are stored in a `SpectroDataset` named after `analysis.name`:"
  },
  {
   "cell_type": "code",
   "id": "3cb0adbb96d2251a",
   "metadata": {},
   "source": [
    "pd.DataFrame(\n",
    "    [\n",
    "        {\n",
    "            \"Exported file\": list(sd.files)[0].path.name,\n",
    "            \"Begin\": sd.begin,\n",
    "            \"End\": sd.end,\n",
    "            \"Sample Rate\": sd.fft.fs,\n",
    "        }\n",
    "        for sd in dataset.get_dataset(analysis.name).data\n",
    "    ],\n",
    ").set_index(\"Exported file\")"
   ],
   "outputs": [],
   "execution_count": null
  },
  {
   "cell_type": "code",
   "id": "58b7aec2d8863a02",
   "metadata": {
    "tags": [
     "remove-cell"
    ]
   },
   "source": [
    "# Reset the dataset to get all files back to place.\n",
    "\n",
    "dataset.reset()"
   ],
   "outputs": [],
   "execution_count": null
  }
 ],
 "metadata": {
  "kernelspec": {
   "display_name": "Python 3",
   "language": "python",
   "name": "python3"
  },
  "language_info": {
   "codemirror_mode": {
    "name": "ipython",
    "version": 2
   },
   "file_extension": ".py",
   "mimetype": "text/x-python",
   "name": "python",
   "nbconvert_exporter": "python",
   "pygments_lexer": "ipython2",
   "version": "2.7.6"
  }
 },
 "nbformat": 4,
 "nbformat_minor": 5
}
