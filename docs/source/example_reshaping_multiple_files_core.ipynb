{
 "cells": [
  {
   "cell_type": "code",
   "execution_count": null,
   "id": "dc7ebca70b3b5da",
   "metadata": {
    "tags": [
     "remove-cell"
    ]
   },
   "outputs": [],
   "source": [
    "# Executing this cell will disable all TQDM outputs in stdout.\n",
    "import os\n",
    "\n",
    "os.environ[\"DISABLE_TQDM\"] = \"True\""
   ]
  },
  {
   "cell_type": "markdown",
   "id": "5d67c1697ae837a4",
   "metadata": {},
   "source": [
    "# Reshaping multiple files with the Core API [^download]\n",
    "\n",
    "[^download]: This notebook can be downloaded as **{nb-download}`example_reshaping_multiple_files_core.ipynb`**."
   ]
  },
  {
   "cell_type": "markdown",
   "id": "66731c408df9271c",
   "metadata": {},
   "source": [
    "Create an **OSEkit** `AudioDataset` from the files on disk, by directly specifying the time-related requirements in the constructor.\n",
    "\n",
    "We will only use the **folder** in which the files are located: we don't have to dig up to the file level."
   ]
  },
  {
   "cell_type": "code",
   "execution_count": 1,
   "id": "2f36ef512e49e57b",
   "metadata": {
    "ExecuteTime": {
     "end_time": "2025-07-24T15:24:42.710460Z",
     "start_time": "2025-07-24T15:24:41.881142Z"
    }
   },
   "outputs": [
    {
     "name": "stderr",
     "output_type": "stream",
     "text": [
      "10it [00:00, 1481.25it/s]\n",
      "100%|██████████| 14/14 [00:00<00:00, 39172.95it/s]\n"
     ]
    }
   ],
   "source": [
    "from pathlib import Path\n",
    "\n",
    "audio_folder = Path(r\"_static/sample_audio\")\n",
    "\n",
    "from osekit.core_api.audio_dataset import AudioDataset\n",
    "from pandas import Timestamp, Timedelta\n",
    "\n",
    "audio_dataset = AudioDataset.from_folder(\n",
    "    folder=audio_folder,\n",
    "    strptime_format=\"%y%m%d_%H%M%S\",\n",
    "    begin=Timestamp(\"2022-09-25 22:35:15\"),\n",
    "    end=Timestamp(\"2022-09-25 22:36:25\"),\n",
    "    data_duration=Timedelta(seconds=5),\n",
    ")"
   ]
  },
  {
   "cell_type": "markdown",
   "id": "ae4f34cb1e7707e5",
   "metadata": {},
   "source": "The `AudioDataset` object contains all the to-be-exported `AudioData`:"
  },
  {
   "cell_type": "code",
   "execution_count": null,
   "id": "7b81ebdba07f5ccf",
   "metadata": {},
   "outputs": [],
   "source": [
    "print(f\"{' AUDIO DATASET ':#^60}\")\n",
    "print(f\"{'Begin:':<30}{str(audio_dataset.begin):>30}\")\n",
    "print(f\"{'End:':<30}{str(audio_dataset.end):>30}\")\n",
    "print(f\"{'Sample rate:':<30}{str(audio_dataset.sample_rate):>30}\")\n",
    "print(f\"{'Nb of audio data:':<30}{str(len(audio_dataset.data)):>30}\")"
   ]
  },
  {
   "cell_type": "markdown",
   "id": "eeafddd2f84557ac",
   "metadata": {},
   "source": [
    "We also wanted to **skip** the `AudioData` that are **in the gap between recordings**.\n",
    "Such `AudioData` have **no linked file**, thus their `is_empty` property should be `True`."
   ]
  },
  {
   "cell_type": "code",
   "execution_count": null,
   "id": "4387f29b15bd03cb",
   "metadata": {},
   "outputs": [],
   "source": [
    "print(f\"{' BEFORE FILTERING ':#^60}\")\n",
    "print(\n",
    "    f\"{'Nb of Empty data:':<30}{str(len([ad for ad in audio_dataset.data if ad.is_empty])):>30}\\n\"\n",
    ")\n",
    "\n",
    "# Remove the empty data by using the default AudioDataset constructor:\n",
    "audio_dataset = AudioDataset([ad for ad in audio_dataset.data if not ad.is_empty])"
   ]
  },
  {
   "cell_type": "markdown",
   "id": "4e63d5b94f93c8c5",
   "metadata": {},
   "source": "The `AudioData` should now only contain **non-empty `AudioData`**:"
  },
  {
   "cell_type": "code",
   "execution_count": null,
   "id": "56d4365be918a060",
   "metadata": {},
   "outputs": [],
   "source": [
    "print(f\"{' AFTER FILTERING ':#^60}\")\n",
    "print(f\"{'Nb of audio data:':<30}{str(len(audio_dataset.data)):>30}\")\n",
    "print(\n",
    "    f\"{'Nb of Empty data:':<30}{str(len([ad for ad in audio_dataset.data if ad.is_empty])):>30}\\n\"\n",
    ")"
   ]
  },
  {
   "cell_type": "markdown",
   "id": "ff463689d799a823",
   "metadata": {},
   "source": "Export all the `AudioData` of the `AudioDataset` at once:"
  },
  {
   "cell_type": "code",
   "execution_count": null,
   "id": "a5c030c6cf06128",
   "metadata": {
    "tags": [
     "skip-execution"
    ]
   },
   "outputs": [],
   "source": [
    "audio_dataset.write(audio_folder / \"exported_files\")"
   ]
  }
 ],
 "metadata": {
  "kernelspec": {
   "display_name": "Python 3",
   "language": "python",
   "name": "python3"
  },
  "language_info": {
   "codemirror_mode": {
    "name": "ipython",
    "version": 2
   },
   "file_extension": ".py",
   "mimetype": "text/x-python",
   "name": "python",
   "nbconvert_exporter": "python",
   "pygments_lexer": "ipython2",
   "version": "2.7.6"
  }
 },
 "nbformat": 4,
 "nbformat_minor": 5
}
