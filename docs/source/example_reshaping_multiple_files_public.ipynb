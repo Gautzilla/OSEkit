{
 "cells": [
  {
   "cell_type": "code",
   "execution_count": 60,
   "id": "dc7ebca70b3b5da",
   "metadata": {
    "ExecuteTime": {
     "end_time": "2025-07-25T09:12:02.542778Z",
     "start_time": "2025-07-25T09:12:02.539489Z"
    },
    "tags": [
     "remove-cell"
    ]
   },
   "outputs": [],
   "source": [
    "# Executing this cell will disable all TQDM outputs in stdout.\n",
    "import os\n",
    "\n",
    "os.environ[\"DISABLE_TQDM\"] = \"True\""
   ]
  },
  {
   "cell_type": "markdown",
   "id": "5d67c1697ae837a4",
   "metadata": {},
   "source": [
    "# Reshaping multiple files with the Public API [^download]\n",
    "\n",
    "[^download]: This notebook can be downloaded as **{nb-download}`example_reshaping_multiple_files_public.ipynb`**."
   ]
  },
  {
   "cell_type": "markdown",
   "id": "66731c408df9271c",
   "metadata": {},
   "source": "As always in the **Public API**, the first step is to **build the dataset**:"
  },
  {
   "cell_type": "code",
   "execution_count": 61,
   "id": "bb002105fc9632e8",
   "metadata": {
    "ExecuteTime": {
     "end_time": "2025-07-25T09:12:02.596814Z",
     "start_time": "2025-07-25T09:12:02.555357Z"
    },
    "tags": []
   },
   "outputs": [
    {
     "name": "stdout",
     "output_type": "stream",
     "text": [
      "\t2025-07-25 11:12:02,559\n",
      "Building the dataset...\n",
      "\n",
      "\t2025-07-25 11:12:02,560\n",
      "Analyzing original audio files...\n",
      "\n",
      "\t2025-07-25 11:12:02,568\n",
      "Organizing dataset folder...\n",
      "\n",
      "\t2025-07-25 11:12:02,594\n",
      "Build done!\n",
      "\n"
     ]
    }
   ],
   "source": [
    "from pathlib import Path\n",
    "\n",
    "audio_folder = Path(r\"_static/sample_audio\")\n",
    "\n",
    "from osekit.public_api.dataset import Dataset\n",
    "\n",
    "dataset = Dataset(\n",
    "    folder=audio_folder,\n",
    "    strptime_format=\"%y%m%d_%H%M%S\",\n",
    ")\n",
    "\n",
    "dataset.build()"
   ]
  },
  {
   "cell_type": "markdown",
   "id": "d11d0e55baa8e44",
   "metadata": {},
   "source": "The **Public API** `Dataset` is now analyzed and organized:"
  },
  {
   "cell_type": "code",
   "execution_count": 62,
   "id": "a29c761d4bbd5303",
   "metadata": {
    "ExecuteTime": {
     "end_time": "2025-07-25T09:12:02.619597Z",
     "start_time": "2025-07-25T09:12:02.611732Z"
    }
   },
   "outputs": [
    {
     "name": "stdout",
     "output_type": "stream",
     "text": [
      "######################### DATASET ##########################\n",
      "Begin:                                   2022-09-25 22:34:50\n",
      "End:                                     2022-09-25 22:36:50\n",
      "Sample rate:                                           48000\n",
      "\n",
      "###################### ORIGINAL FILES ######################\n"
     ]
    },
    {
     "data": {
      "text/html": [
       "<div>\n",
       "<style scoped>\n",
       "    .dataframe tbody tr th:only-of-type {\n",
       "        vertical-align: middle;\n",
       "    }\n",
       "\n",
       "    .dataframe tbody tr th {\n",
       "        vertical-align: top;\n",
       "    }\n",
       "\n",
       "    .dataframe thead th {\n",
       "        text-align: right;\n",
       "    }\n",
       "</style>\n",
       "<table border=\"1\" class=\"dataframe\">\n",
       "  <thead>\n",
       "    <tr style=\"text-align: right;\">\n",
       "      <th></th>\n",
       "      <th>Begin</th>\n",
       "      <th>End</th>\n",
       "      <th>Sample Rate</th>\n",
       "    </tr>\n",
       "    <tr>\n",
       "      <th>Name</th>\n",
       "      <th></th>\n",
       "      <th></th>\n",
       "      <th></th>\n",
       "    </tr>\n",
       "  </thead>\n",
       "  <tbody>\n",
       "    <tr>\n",
       "      <th>sample_220925_223450.wav</th>\n",
       "      <td>2022-09-25 22:34:50</td>\n",
       "      <td>2022-09-25 22:35:00</td>\n",
       "      <td>48000</td>\n",
       "    </tr>\n",
       "    <tr>\n",
       "      <th>sample_220925_223500.wav</th>\n",
       "      <td>2022-09-25 22:35:00</td>\n",
       "      <td>2022-09-25 22:35:10</td>\n",
       "      <td>48000</td>\n",
       "    </tr>\n",
       "    <tr>\n",
       "      <th>sample_220925_223510.wav</th>\n",
       "      <td>2022-09-25 22:35:10</td>\n",
       "      <td>2022-09-25 22:35:20</td>\n",
       "      <td>48000</td>\n",
       "    </tr>\n",
       "    <tr>\n",
       "      <th>sample_220925_223520.wav</th>\n",
       "      <td>2022-09-25 22:35:20</td>\n",
       "      <td>2022-09-25 22:35:30</td>\n",
       "      <td>48000</td>\n",
       "    </tr>\n",
       "    <tr>\n",
       "      <th>sample_220925_223530.wav</th>\n",
       "      <td>2022-09-25 22:35:30</td>\n",
       "      <td>2022-09-25 22:35:40</td>\n",
       "      <td>48000</td>\n",
       "    </tr>\n",
       "    <tr>\n",
       "      <th>sample_220925_223600.wav</th>\n",
       "      <td>2022-09-25 22:36:00</td>\n",
       "      <td>2022-09-25 22:36:10</td>\n",
       "      <td>48000</td>\n",
       "    </tr>\n",
       "    <tr>\n",
       "      <th>sample_220925_223610.wav</th>\n",
       "      <td>2022-09-25 22:36:10</td>\n",
       "      <td>2022-09-25 22:36:20</td>\n",
       "      <td>48000</td>\n",
       "    </tr>\n",
       "    <tr>\n",
       "      <th>sample_220925_223620.wav</th>\n",
       "      <td>2022-09-25 22:36:20</td>\n",
       "      <td>2022-09-25 22:36:30</td>\n",
       "      <td>48000</td>\n",
       "    </tr>\n",
       "    <tr>\n",
       "      <th>sample_220925_223630.wav</th>\n",
       "      <td>2022-09-25 22:36:30</td>\n",
       "      <td>2022-09-25 22:36:40</td>\n",
       "      <td>48000</td>\n",
       "    </tr>\n",
       "    <tr>\n",
       "      <th>sample_220925_223640.wav</th>\n",
       "      <td>2022-09-25 22:36:40</td>\n",
       "      <td>2022-09-25 22:36:50</td>\n",
       "      <td>48000</td>\n",
       "    </tr>\n",
       "  </tbody>\n",
       "</table>\n",
       "</div>"
      ],
      "text/plain": [
       "                                       Begin                 End  Sample Rate\n",
       "Name                                                                         \n",
       "sample_220925_223450.wav 2022-09-25 22:34:50 2022-09-25 22:35:00        48000\n",
       "sample_220925_223500.wav 2022-09-25 22:35:00 2022-09-25 22:35:10        48000\n",
       "sample_220925_223510.wav 2022-09-25 22:35:10 2022-09-25 22:35:20        48000\n",
       "sample_220925_223520.wav 2022-09-25 22:35:20 2022-09-25 22:35:30        48000\n",
       "sample_220925_223530.wav 2022-09-25 22:35:30 2022-09-25 22:35:40        48000\n",
       "sample_220925_223600.wav 2022-09-25 22:36:00 2022-09-25 22:36:10        48000\n",
       "sample_220925_223610.wav 2022-09-25 22:36:10 2022-09-25 22:36:20        48000\n",
       "sample_220925_223620.wav 2022-09-25 22:36:20 2022-09-25 22:36:30        48000\n",
       "sample_220925_223630.wav 2022-09-25 22:36:30 2022-09-25 22:36:40        48000\n",
       "sample_220925_223640.wav 2022-09-25 22:36:40 2022-09-25 22:36:50        48000"
      ]
     },
     "execution_count": 62,
     "metadata": {},
     "output_type": "execute_result"
    }
   ],
   "source": [
    "print(f\"{' DATASET ':#^60}\")\n",
    "print(f\"{'Begin:':<30}{str(dataset.origin_dataset.begin):>30}\")\n",
    "print(f\"{'End:':<30}{str(dataset.origin_dataset.end):>30}\")\n",
    "print(f\"{'Sample rate:':<30}{str(dataset.origin_dataset.sample_rate):>30}\\n\")\n",
    "\n",
    "print(f\"{' ORIGINAL FILES ':#^60}\")\n",
    "import pandas as pd\n",
    "\n",
    "pd.DataFrame(\n",
    "    [\n",
    "        {\n",
    "            \"Name\": f.path.name,\n",
    "            \"Begin\": f.begin,\n",
    "            \"End\": f.end,\n",
    "            \"Sample Rate\": f.sample_rate,\n",
    "        }\n",
    "        for f in dataset.origin_files\n",
    "    ],\n",
    ").set_index(\"Name\")"
   ]
  },
  {
   "cell_type": "markdown",
   "id": "bdcd50704ad9f826",
   "metadata": {},
   "source": "To **run analyses** in the **Public API**, use the `Analysis` class:"
  },
  {
   "cell_type": "code",
   "execution_count": 63,
   "id": "b4c2c3857ffcb60f",
   "metadata": {
    "ExecuteTime": {
     "end_time": "2025-07-25T09:12:02.661794Z",
     "start_time": "2025-07-25T09:12:02.658829Z"
    },
    "tags": []
   },
   "outputs": [],
   "source": [
    "from osekit.public_api.analysis import Analysis, AnalysisType\n",
    "from pandas import Timestamp, Timedelta\n",
    "\n",
    "analysis = Analysis(\n",
    "    analysis_type=AnalysisType.AUDIO,  # we just want to export the reshaped audio,\n",
    "    begin=Timestamp(\"2022-09-25 22:35:15\"),\n",
    "    end=Timestamp(\"2022-09-25 22:36:25\"),\n",
    "    data_duration=Timedelta(seconds=5),\n",
    "    name=\"reshape_example\",\n",
    ")"
   ]
  },
  {
   "cell_type": "markdown",
   "id": "6b67898ad3ea73dd",
   "metadata": {},
   "source": [
    "The **Core API** can still be used on top of the **Public API**.\n",
    "Here, we filter out the empty `AudioData` with some **Core API**:"
   ]
  },
  {
   "cell_type": "code",
   "execution_count": 64,
   "id": "2f799a26d626e418",
   "metadata": {
    "ExecuteTime": {
     "end_time": "2025-07-25T09:12:02.710638Z",
     "start_time": "2025-07-25T09:12:02.705671Z"
    },
    "tags": []
   },
   "outputs": [
    {
     "name": "stdout",
     "output_type": "stream",
     "text": [
      "\t2025-07-25 11:12:02,707\n",
      "Creating the audio data...\n",
      "\n"
     ]
    }
   ],
   "source": [
    "# Returns a Core API AudioDataset that matches the analysis\n",
    "audio_dataset = dataset.get_analysis_audiodataset(analysis=analysis)\n",
    "\n",
    "# Filter the returned AudioDataset\n",
    "from osekit.core_api.audio_dataset import AudioDataset\n",
    "\n",
    "audio_dataset.data = [ad for ad in audio_dataset.data if not ad.is_empty]"
   ]
  },
  {
   "cell_type": "markdown",
   "id": "b2950dc5d76d2bbe",
   "metadata": {},
   "source": "Running the analysis while specifying the filtered ``audio_dataset`` will skip the empty `AudioData`."
  },
  {
   "cell_type": "code",
   "execution_count": 65,
   "id": "9b65cfdc720d50e6",
   "metadata": {
    "ExecuteTime": {
     "end_time": "2025-07-25T09:12:02.918816Z",
     "start_time": "2025-07-25T09:12:02.776523Z"
    },
    "tags": []
   },
   "outputs": [
    {
     "name": "stdout",
     "output_type": "stream",
     "text": [
      "\t2025-07-25 11:12:02,779\n",
      "Running analysis...\n",
      "\n",
      "\t2025-07-25 11:12:02,780\n",
      "Writing audio files...\n",
      "\n"
     ]
    }
   ],
   "source": [
    "dataset.run_analysis(analysis=analysis, audio_dataset=audio_dataset)"
   ]
  },
  {
   "cell_type": "markdown",
   "id": "8271f118422f38dc",
   "metadata": {},
   "source": "All the new files from the analysis are stored in an `AudioDataset` named after `analysis.name`:"
  },
  {
   "cell_type": "code",
   "execution_count": 66,
   "id": "3cb0adbb96d2251a",
   "metadata": {
    "ExecuteTime": {
     "end_time": "2025-07-25T09:12:02.942592Z",
     "start_time": "2025-07-25T09:12:02.935733Z"
    }
   },
   "outputs": [
    {
     "data": {
      "text/html": [
       "<div>\n",
       "<style scoped>\n",
       "    .dataframe tbody tr th:only-of-type {\n",
       "        vertical-align: middle;\n",
       "    }\n",
       "\n",
       "    .dataframe tbody tr th {\n",
       "        vertical-align: top;\n",
       "    }\n",
       "\n",
       "    .dataframe thead th {\n",
       "        text-align: right;\n",
       "    }\n",
       "</style>\n",
       "<table border=\"1\" class=\"dataframe\">\n",
       "  <thead>\n",
       "    <tr style=\"text-align: right;\">\n",
       "      <th></th>\n",
       "      <th>Begin</th>\n",
       "      <th>End</th>\n",
       "      <th>Sample Rate</th>\n",
       "    </tr>\n",
       "    <tr>\n",
       "      <th>Exported file</th>\n",
       "      <th></th>\n",
       "      <th></th>\n",
       "      <th></th>\n",
       "    </tr>\n",
       "  </thead>\n",
       "  <tbody>\n",
       "    <tr>\n",
       "      <th>2022_09_25_22_35_15_000000.wav</th>\n",
       "      <td>2022-09-25 22:35:15</td>\n",
       "      <td>2022-09-25 22:35:20</td>\n",
       "      <td>48000</td>\n",
       "    </tr>\n",
       "    <tr>\n",
       "      <th>2022_09_25_22_35_20_000000.wav</th>\n",
       "      <td>2022-09-25 22:35:20</td>\n",
       "      <td>2022-09-25 22:35:25</td>\n",
       "      <td>48000</td>\n",
       "    </tr>\n",
       "    <tr>\n",
       "      <th>2022_09_25_22_35_25_000000.wav</th>\n",
       "      <td>2022-09-25 22:35:25</td>\n",
       "      <td>2022-09-25 22:35:30</td>\n",
       "      <td>48000</td>\n",
       "    </tr>\n",
       "    <tr>\n",
       "      <th>2022_09_25_22_35_30_000000.wav</th>\n",
       "      <td>2022-09-25 22:35:30</td>\n",
       "      <td>2022-09-25 22:35:35</td>\n",
       "      <td>48000</td>\n",
       "    </tr>\n",
       "    <tr>\n",
       "      <th>2022_09_25_22_35_35_000000.wav</th>\n",
       "      <td>2022-09-25 22:35:35</td>\n",
       "      <td>2022-09-25 22:35:40</td>\n",
       "      <td>48000</td>\n",
       "    </tr>\n",
       "    <tr>\n",
       "      <th>2022_09_25_22_36_00_000000.wav</th>\n",
       "      <td>2022-09-25 22:36:00</td>\n",
       "      <td>2022-09-25 22:36:05</td>\n",
       "      <td>48000</td>\n",
       "    </tr>\n",
       "    <tr>\n",
       "      <th>2022_09_25_22_36_05_000000.wav</th>\n",
       "      <td>2022-09-25 22:36:05</td>\n",
       "      <td>2022-09-25 22:36:10</td>\n",
       "      <td>48000</td>\n",
       "    </tr>\n",
       "    <tr>\n",
       "      <th>2022_09_25_22_36_10_000000.wav</th>\n",
       "      <td>2022-09-25 22:36:10</td>\n",
       "      <td>2022-09-25 22:36:15</td>\n",
       "      <td>48000</td>\n",
       "    </tr>\n",
       "    <tr>\n",
       "      <th>2022_09_25_22_36_15_000000.wav</th>\n",
       "      <td>2022-09-25 22:36:15</td>\n",
       "      <td>2022-09-25 22:36:20</td>\n",
       "      <td>48000</td>\n",
       "    </tr>\n",
       "    <tr>\n",
       "      <th>2022_09_25_22_36_20_000000.wav</th>\n",
       "      <td>2022-09-25 22:36:20</td>\n",
       "      <td>2022-09-25 22:36:25</td>\n",
       "      <td>48000</td>\n",
       "    </tr>\n",
       "  </tbody>\n",
       "</table>\n",
       "</div>"
      ],
      "text/plain": [
       "                                             Begin                 End  \\\n",
       "Exported file                                                            \n",
       "2022_09_25_22_35_15_000000.wav 2022-09-25 22:35:15 2022-09-25 22:35:20   \n",
       "2022_09_25_22_35_20_000000.wav 2022-09-25 22:35:20 2022-09-25 22:35:25   \n",
       "2022_09_25_22_35_25_000000.wav 2022-09-25 22:35:25 2022-09-25 22:35:30   \n",
       "2022_09_25_22_35_30_000000.wav 2022-09-25 22:35:30 2022-09-25 22:35:35   \n",
       "2022_09_25_22_35_35_000000.wav 2022-09-25 22:35:35 2022-09-25 22:35:40   \n",
       "2022_09_25_22_36_00_000000.wav 2022-09-25 22:36:00 2022-09-25 22:36:05   \n",
       "2022_09_25_22_36_05_000000.wav 2022-09-25 22:36:05 2022-09-25 22:36:10   \n",
       "2022_09_25_22_36_10_000000.wav 2022-09-25 22:36:10 2022-09-25 22:36:15   \n",
       "2022_09_25_22_36_15_000000.wav 2022-09-25 22:36:15 2022-09-25 22:36:20   \n",
       "2022_09_25_22_36_20_000000.wav 2022-09-25 22:36:20 2022-09-25 22:36:25   \n",
       "\n",
       "                                Sample Rate  \n",
       "Exported file                                \n",
       "2022_09_25_22_35_15_000000.wav        48000  \n",
       "2022_09_25_22_35_20_000000.wav        48000  \n",
       "2022_09_25_22_35_25_000000.wav        48000  \n",
       "2022_09_25_22_35_30_000000.wav        48000  \n",
       "2022_09_25_22_35_35_000000.wav        48000  \n",
       "2022_09_25_22_36_00_000000.wav        48000  \n",
       "2022_09_25_22_36_05_000000.wav        48000  \n",
       "2022_09_25_22_36_10_000000.wav        48000  \n",
       "2022_09_25_22_36_15_000000.wav        48000  \n",
       "2022_09_25_22_36_20_000000.wav        48000  "
      ]
     },
     "execution_count": 66,
     "metadata": {},
     "output_type": "execute_result"
    }
   ],
   "source": [
    "pd.DataFrame(\n",
    "    [\n",
    "        {\n",
    "            \"Exported file\": list(ad.files)[0].path.name,\n",
    "            \"Begin\": ad.begin,\n",
    "            \"End\": ad.end,\n",
    "            \"Sample Rate\": ad.sample_rate,\n",
    "        }\n",
    "        for ad in dataset.get_dataset(analysis.name).data\n",
    "    ],\n",
    ").set_index(\"Exported file\")"
   ]
  },
  {
   "cell_type": "code",
   "execution_count": 67,
   "id": "58b7aec2d8863a02",
   "metadata": {
    "ExecuteTime": {
     "end_time": "2025-07-25T09:12:03.018187Z",
     "start_time": "2025-07-25T09:12:02.986294Z"
    },
    "tags": [
     "remove-cell"
    ]
   },
   "outputs": [],
   "source": [
    "# Reset the dataset to get all files back to place.\n",
    "\n",
    "dataset.reset()"
   ]
  }
 ],
 "metadata": {
  "kernelspec": {
   "display_name": "Python 3",
   "language": "python",
   "name": "python3"
  },
  "language_info": {
   "codemirror_mode": {
    "name": "ipython",
    "version": 2
   },
   "file_extension": ".py",
   "mimetype": "text/x-python",
   "name": "python",
   "nbconvert_exporter": "python",
   "pygments_lexer": "ipython2",
   "version": "2.7.6"
  }
 },
 "nbformat": 4,
 "nbformat_minor": 5
}
