{
 "cells": [
  {
   "cell_type": "markdown",
   "id": "5d67c1697ae837a4",
   "metadata": {},
   "source": [
    "# Computing a spectrogram [^download]\n",
    "\n",
    "[^download]: This notebook can be downloaded as **{nb-download}`example_spectrogram.ipynb`**.\n",
    "\n",
    "This simple example will only be covered with the **Core API**."
   ]
  },
  {
   "cell_type": "markdown",
   "id": "3ddf15a47797be2e",
   "metadata": {},
   "source": [
    "First, create an **OSEkit** `AudioData` from the audio file(s) on disk.\n",
    "There are multiple ways to do so: here we'll go throught the full process of parsing files into **OSEkit** `AudioFiles`:"
   ]
  },
  {
   "cell_type": "code",
   "id": "initial_id",
   "metadata": {
    "collapsed": true
   },
   "source": [
    "from pathlib import Path\n",
    "from osekit.core_api.audio_file import AudioFile\n",
    "\n",
    "audio_folder = Path(r\"_static/sample_audio\")\n",
    "audio_files = [\n",
    "    AudioFile(\n",
    "        path=p,\n",
    "        strptime_format=\"%y%m%d_%H%M%S\",\n",
    "    )\n",
    "    for p in audio_folder.glob(\"*.wav\")\n",
    "]"
   ],
   "outputs": [],
   "execution_count": null
  },
  {
   "cell_type": "markdown",
   "id": "a3e00607af01f18f",
   "metadata": {},
   "source": [
    "Create the `AudioData` you want to plot a spectrogram of from the `AudioFile`s.\n",
    "The `AudioData` can be freely distributed over multiple files, and you can even resample it:"
   ]
  },
  {
   "cell_type": "code",
   "id": "8df490fff812332",
   "metadata": {},
   "source": [
    "from osekit.core_api.audio_data import AudioData\n",
    "from pandas import Timestamp\n",
    "\n",
    "audio_data = AudioData.from_files(\n",
    "    audio_files,\n",
    "    begin=Timestamp(\"2022-09-25 22:34:55\"),\n",
    "    end=Timestamp(\"2022-09-25 22:35:05\"),\n",
    "    sample_rate=40000,\n",
    ")"
   ],
   "outputs": [],
   "execution_count": null
  },
  {
   "cell_type": "markdown",
   "id": "e0da828bafcfce55",
   "metadata": {},
   "source": "Create a `scipy.signal.ShortTimeFFT` with the FFT parameters:"
  },
  {
   "cell_type": "code",
   "id": "63edf1d81811bf4b",
   "metadata": {},
   "source": [
    "from scipy.signal import ShortTimeFFT\n",
    "from scipy.signal.windows import hamming\n",
    "\n",
    "sft = ShortTimeFFT(win=hamming(1024), hop=512, fs=audio_data.sample_rate)"
   ],
   "outputs": [],
   "execution_count": null
  },
  {
   "cell_type": "markdown",
   "id": "8ae4db7363a92148",
   "metadata": {},
   "source": "Instantiate an **OSEkit** `SpectroData`, which is the object that will be used to plot spectrograms, export spectrum matrices etc."
  },
  {
   "cell_type": "code",
   "id": "8c672c04078d395e",
   "metadata": {},
   "source": [
    "from osekit.core_api.spectro_data import SpectroData\n",
    "\n",
    "spectro_data = SpectroData.from_audio_data(data=audio_data, fft=sft)"
   ],
   "outputs": [],
   "execution_count": null
  },
  {
   "cell_type": "markdown",
   "id": "d5d28a92c4002bfb",
   "metadata": {},
   "source": "Plot the spectrogram using `matplotlib.pyplot`:"
  },
  {
   "cell_type": "code",
   "id": "9b3faf84f6e45cf2",
   "metadata": {},
   "source": [
    "import matplotlib.pyplot as plt\n",
    "\n",
    "# We store the spectrum matrix here to reuse it later in the notebook, this is not mandatory\n",
    "sx = spectro_data.get_value()\n",
    "\n",
    "spectro_data.plot(sx=sx)\n",
    "plt.show()"
   ],
   "outputs": [],
   "execution_count": null
  },
  {
   "cell_type": "markdown",
   "id": "93eae4edd8bb8bb5",
   "metadata": {},
   "source": "You can export both the PNG spectrogram and the NPZ spectrum matrix to file:"
  },
  {
   "cell_type": "code",
   "id": "ddc9e9c82bca1c41",
   "metadata": {
    "tags": [
     "skip-execution"
    ]
   },
   "source": [
    "# Write a NPZ file with the spectrum matrix:\n",
    "spectro_data.write(folder=audio_folder / \"export\", sx=sx)\n",
    "\n",
    "# Write a PNG image of the spectrogram\n",
    "spectro_data.save_spectrogram(folder=audio_folder / \"export\", sx=sx)"
   ],
   "outputs": [],
   "execution_count": null
  }
 ],
 "metadata": {
  "kernelspec": {
   "display_name": "Python 3",
   "language": "python",
   "name": "python3"
  },
  "language_info": {
   "codemirror_mode": {
    "name": "ipython",
    "version": 2
   },
   "file_extension": ".py",
   "mimetype": "text/x-python",
   "name": "python",
   "nbconvert_exporter": "python",
   "pygments_lexer": "ipython2",
   "version": "2.7.6"
  }
 },
 "nbformat": 4,
 "nbformat_minor": 5
}
